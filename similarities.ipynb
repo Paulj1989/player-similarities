{
 "cells": [
  {
   "cell_type": "markdown",
   "metadata": {},
   "source": [
    "# Identifying Similar Players Using Unsupervised Nearest Neighbors\n",
    "\n",
    "## Using unsupervised nearest neighbors to compute searches for the nearest observations in the data, treating this as an approximation for a similarity score ranking\n",
    "\n",
    "Unsupervised nearest neighbors implements different algorithms for the task of finding the nearest neighbors (the nearest observations) for each sample. The scikit-learn implementation has three different algorithms that it applies, finding the best approach for the data: BallTree, KDTree, and Brute Force.\n",
    "\n",
    "Broadly speaking, neighbors-based methods find a set number of samples closest in distance to a new observation, and predict how to classify it from these nearest samples. The family of nearest neighbors algorithms are generally quite simple, but highly effective for a range of classification and regression tasks, and they form the basis for a number of more complicated approaches. In this case, the unsupervised approach can be repurposed and used to identify the nearest data points, representing the most similar players, without a follow-up task after.\n",
    "\n",
    "I've made the following assumptions/decisions in developing this solution:\n",
    "\n",
    "- I have taken the distance from all clusters to compute nearest neighbors. That way it doesn't just rely on the distance from its own cluster.\n",
    "- I've used the cluster distances from one season to compute the nearest neighbors, meaning that the function is identifying players that are similar to a player in a certain season, but there is also an argument to be made for using a player's mean distances over the course of all seasons for which there is data available for them.\n",
    "  - I've looked at the mean value similarities (taking the mean value of the individual, and then the single seeason value for similar players), and the results tend to be quite similar.\n",
    "  - It's possible that mean values should be used for both target and neighbors.\n",
    "  - It's not clear which is the better approach, but both are relatively easy to compute, so it's more of a conceptual decision than technical.\n",
    "\n",
    "It would be possible to use the nearest neighbors approach on the raw player data, however, I think this would produce sub-optimal results. On its own this approach will potenially be too dependent on variables that may not define the broader role that a player is playing, but happen to define similarities between two players. Instead, the clustering approach classifies players in the wider context of the type of player they are, and then similarities can be drawn from that context."
   ]
  },
  {
   "cell_type": "code",
   "execution_count": 1,
   "metadata": {},
   "outputs": [],
   "source": [
    "import pickle\n",
    "\n",
    "from sklearn.neighbors import NearestNeighbors\n"
   ]
  },
  {
   "cell_type": "markdown",
   "metadata": {},
   "source": [
    "## Load K-Means Outputs"
   ]
  },
  {
   "cell_type": "code",
   "execution_count": 2,
   "metadata": {},
   "outputs": [],
   "source": [
    "mf = pickle.load(open(\"mf_results.pickle\", \"rb\"))\n",
    "fw = pickle.load(open(\"fw_results.pickle\", \"rb\"))"
   ]
  },
  {
   "cell_type": "markdown",
   "metadata": {},
   "source": [
    "## Define Comparison Function"
   ]
  },
  {
   "cell_type": "code",
   "execution_count": 22,
   "metadata": {},
   "outputs": [],
   "source": [
    "def similarity_comp(df, player_name, player_season):\n",
    "    \"\"\"\n",
    "    Computing the 10 most similar player-seasons to a\n",
    "    specified player-season using an unsupervised nearest\n",
    "    neighbors algorithm on that player's position group.\n",
    "    \"\"\"\n",
    "    n_nbrs = NearestNeighbors(n_neighbors=10, radius=0.4).fit(df[[0, 1, 2, 3]])\n",
    "    x = (\n",
    "        df.loc[(df[\"player\"] == str(player_name)) & (df[\"season\"] == player_season)][\n",
    "            [0, 1, 2, 3]\n",
    "        ]\n",
    "        .to_numpy()\n",
    "        .ravel()\n",
    "        .tolist()\n",
    "    )\n",
    "    x = n_nbrs.kneighbors([x], 10, return_distance=False)\n",
    "    x = df.iloc[x.ravel().tolist()][[\"player\", \"season\"]]\n",
    "\n",
    "    print(x)"
   ]
  },
  {
   "cell_type": "markdown",
   "metadata": {},
   "source": [
    "## Examples\n",
    "\n",
    "Below are six examples, three forwards and three midfielders, drawn from players that play relatively different roles. All six players are well-known, making it easier to assess how accurate the list of similar players are.\n",
    "\n",
    "The examples are:\n",
    "\n",
    "- Forwards: Lewandowski, Sancho, Messi\n",
    "- Midfielders: Jorginho, Kimmich, De Bruyne"
   ]
  },
  {
   "cell_type": "markdown",
   "metadata": {},
   "source": [
    "### Forwards"
   ]
  },
  {
   "cell_type": "code",
   "execution_count": 23,
   "metadata": {},
   "outputs": [
    {
     "name": "stdout",
     "output_type": "stream",
     "text": [
      "player  season\n",
      "2226  Robert Lewandowski    1920\n",
      "1355       Karim Benzema    1920\n",
      "2730  Zlatan Ibrahimović    1920\n",
      "7782         Luis Suárez    1718\n",
      "4846   Cristiano Ronaldo    1819\n",
      "5103         Luis Suárez    1819\n",
      "5361        Duván Zapata    1819\n",
      "7527   Cristiano Ronaldo    1718\n",
      "3899       Gabriel Jesus    1819\n",
      "4505        Oumar Niasse    1819\n"
     ]
    }
   ],
   "source": [
    "# robert lewandowski\n",
    "similarity_comp(fw, \"Robert Lewandowski\", 1920)"
   ]
  },
  {
   "cell_type": "code",
   "execution_count": 24,
   "metadata": {},
   "outputs": [
    {
     "name": "stdout",
     "output_type": "stream",
     "text": [
      "player  season\n",
      "1093     Jadon Sancho    1920\n",
      "641     Dimitri Payet    1920\n",
      "1520  Lorenzo Insigne    1920\n",
      "2084     Paulo Dybala    1920\n",
      "3869       Alex Iwobi    1819\n",
      "132    Alexis Sánchez    1920\n",
      "2861    Marco Asensio    1819\n",
      "4210     Riyad Mahrez    1819\n",
      "6905           Malcom    1718\n",
      "5114             Suso    1819\n"
     ]
    }
   ],
   "source": [
    "# jadon sancho\n",
    "similarity_comp(fw, \"Jadon Sancho\", 1920)"
   ]
  },
  {
   "cell_type": "code",
   "execution_count": 25,
   "metadata": {},
   "outputs": [
    {
     "name": "stdout",
     "output_type": "stream",
     "text": [
      "player  season\n",
      "1506     Lionel Messi    1920\n",
      "4353     Lionel Messi    1819\n",
      "7185           Neymar    1718\n",
      "7044     Lionel Messi    1718\n",
      "3845     Josip Iličić    1819\n",
      "6539  Lorenzo Insigne    1718\n",
      "7603   Alexis Sánchez    1718\n",
      "1311     Josip Iličić    1920\n",
      "220    Ángel Di María    1920\n",
      "2217     Riyad Mahrez    1920\n"
     ]
    }
   ],
   "source": [
    "# lionel messi\n",
    "similarity_comp(fw, \"Lionel Messi\", 1920)"
   ]
  },
  {
   "cell_type": "markdown",
   "metadata": {},
   "source": [
    "### Midfielders"
   ]
  },
  {
   "cell_type": "code",
   "execution_count": 26,
   "metadata": {},
   "outputs": [
    {
     "name": "stdout",
     "output_type": "stream",
     "text": [
      "player  season\n",
      "1281               Jorginho    1920\n",
      "6789            Lucas Leiva    1718\n",
      "2396        Sergio Busquets    1920\n",
      "2947  Julian Baumgartlinger    1819\n",
      "4113            Lucas Leiva    1819\n",
      "1744          Mateo Kovačić    1920\n",
      "1031     Idrissa Gana Gueye    1920\n",
      "3916               Jorginho    1819\n",
      "5545           Milan Badelj    1718\n",
      "626             Diego Demme    1920\n"
     ]
    }
   ],
   "source": [
    "# jorginho\n",
    "similarity_comp(mf, \"Jorginho\", 1920)"
   ]
  },
  {
   "cell_type": "code",
   "execution_count": 8,
   "metadata": {},
   "outputs": [
    {
     "name": "stdout",
     "output_type": "stream",
     "text": [
      "player  season\n",
      "1305    Joshua Kimmich    1920\n",
      "2081        Paul Pogba    1920\n",
      "748        Éver Banega    1920\n",
      "426      Cesc Fàbregas    1920\n",
      "4051        Toni Kroos    1819\n",
      "2564        Toni Kroos    1920\n",
      "6853      Maxime Lopez    1718\n",
      "759   Fabián Ruiz Peña    1920\n",
      "5573       Éver Banega    1718\n",
      "4690    Miralem Pjanić    1819\n"
     ]
    }
   ],
   "source": [
    "# joshua kimmich\n",
    "similarity_comp(mf, \"Joshua Kimmich\", 1920)"
   ]
  },
  {
   "cell_type": "code",
   "execution_count": 9,
   "metadata": {},
   "outputs": [
    {
     "name": "stdout",
     "output_type": "stream",
     "text": [
      "player  season\n",
      "1392     Kevin De Bruyne    1920\n",
      "3320     Kevin De Bruyne    1819\n",
      "5959   Philippe Coutinho    1718\n",
      "576          David Silva    1920\n",
      "5005         David Silva    1819\n",
      "6548                Isco    1718\n",
      "7692         David Silva    1718\n",
      "7271          Mesut Özil    1718\n",
      "2308  Ruslan Malinovskyi    1920\n",
      "3659          Papu Gómez    1819\n"
     ]
    }
   ],
   "source": [
    "# kevin de bruyne\n",
    "similarity_comp(mf, \"Kevin De Bruyne\", 1920)"
   ]
  }
 ],
 "metadata": {
  "kernelspec": {
   "display_name": "Python 3.8.5 64-bit ('player-similarity-clusters': pipenv)",
   "metadata": {
    "interpreter": {
     "hash": "0a0ba77a21c42955fce073e54e716ef0c1a3208994bc6deb37196f5660da2d64"
    }
   },
   "name": "python3"
  },
  "language_info": {
   "codemirror_mode": {
    "name": "ipython",
    "version": 3
   },
   "file_extension": ".py",
   "mimetype": "text/x-python",
   "name": "python",
   "nbconvert_exporter": "python",
   "pygments_lexer": "ipython3",
   "version": "3.8.5-final"
  },
  "orig_nbformat": 2
 },
 "nbformat": 4,
 "nbformat_minor": 2
}